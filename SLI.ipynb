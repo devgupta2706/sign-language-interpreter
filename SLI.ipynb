{
 "cells": [
  {
   "cell_type": "code",
   "execution_count": 2,
   "id": "895b76dc",
   "metadata": {},
   "outputs": [],
   "source": [
    "import numpy as np\n",
    "import pandas as pd\n",
    "from pathlib import Path\n",
    "import os.path\n",
    "import matplotlib.pyplot as plt\n",
    "from IPython.display import Image, display, Markdown\n",
    "import matplotlib.cm as cm\n",
    "from sklearn.metrics import confusion_matrix,accuracy_score, classification_report\n",
    "import tensorflow as tf\n",
    "from tensorflow.keras.models import Sequential\n",
    "from tensorflow.keras.layers import Conv2D, MaxPool2D, Flatten, Dense, Dropout, BatchNormalization\n",
    "from tensorflow.keras.callbacks import ReduceLROnPlateau\n",
    "from time import perf_counter\n",
    "import seaborn as sns"
   ]
  },
  {
   "cell_type": "code",
   "execution_count": 13,
   "id": "243ff15a",
   "metadata": {},
   "outputs": [
    {
     "name": "stdout",
     "output_type": "stream",
     "text": [
      "(27455, 785)\n"
     ]
    }
   ],
   "source": [
    "train_dataset = pd.read_csv('./data/sign_mnist_train/sign_mnist_train.csv')\n",
    "test_dataset = pd.read_csv('./data/sign_mnist_test/sign_mnist_test.csv')\n",
    "print(train_dataset.shape)"
   ]
  },
  {
   "cell_type": "code",
   "execution_count": 4,
   "id": "3782deaa",
   "metadata": {},
   "outputs": [],
   "source": [
    "#shuffling the dataset\n",
    "\n",
    "train_dataset = train_dataset.sample(frac = 1.0).reset_index(drop = True)\n",
    "test_dataset = test_dataset.sample(frac = 1.0).reset_index(drop = True)"
   ]
  },
  {
   "cell_type": "code",
   "execution_count": 5,
   "id": "5bd43ddb",
   "metadata": {},
   "outputs": [
    {
     "data": {
      "text/html": [
       "<div>\n",
       "<style scoped>\n",
       "    .dataframe tbody tr th:only-of-type {\n",
       "        vertical-align: middle;\n",
       "    }\n",
       "\n",
       "    .dataframe tbody tr th {\n",
       "        vertical-align: top;\n",
       "    }\n",
       "\n",
       "    .dataframe thead th {\n",
       "        text-align: right;\n",
       "    }\n",
       "</style>\n",
       "<table border=\"1\" class=\"dataframe\">\n",
       "  <thead>\n",
       "    <tr style=\"text-align: right;\">\n",
       "      <th></th>\n",
       "      <th>label</th>\n",
       "      <th>pixel1</th>\n",
       "      <th>pixel2</th>\n",
       "      <th>pixel3</th>\n",
       "      <th>pixel4</th>\n",
       "      <th>pixel5</th>\n",
       "      <th>pixel6</th>\n",
       "      <th>pixel7</th>\n",
       "      <th>pixel8</th>\n",
       "      <th>pixel9</th>\n",
       "    </tr>\n",
       "  </thead>\n",
       "  <tbody>\n",
       "    <tr>\n",
       "      <th>0</th>\n",
       "      <td>7</td>\n",
       "      <td>94</td>\n",
       "      <td>97</td>\n",
       "      <td>103</td>\n",
       "      <td>107</td>\n",
       "      <td>111</td>\n",
       "      <td>115</td>\n",
       "      <td>117</td>\n",
       "      <td>120</td>\n",
       "      <td>121</td>\n",
       "    </tr>\n",
       "    <tr>\n",
       "      <th>1</th>\n",
       "      <td>22</td>\n",
       "      <td>108</td>\n",
       "      <td>115</td>\n",
       "      <td>122</td>\n",
       "      <td>125</td>\n",
       "      <td>128</td>\n",
       "      <td>133</td>\n",
       "      <td>137</td>\n",
       "      <td>141</td>\n",
       "      <td>144</td>\n",
       "    </tr>\n",
       "    <tr>\n",
       "      <th>2</th>\n",
       "      <td>13</td>\n",
       "      <td>139</td>\n",
       "      <td>141</td>\n",
       "      <td>143</td>\n",
       "      <td>144</td>\n",
       "      <td>146</td>\n",
       "      <td>147</td>\n",
       "      <td>150</td>\n",
       "      <td>149</td>\n",
       "      <td>151</td>\n",
       "    </tr>\n",
       "    <tr>\n",
       "      <th>3</th>\n",
       "      <td>11</td>\n",
       "      <td>135</td>\n",
       "      <td>136</td>\n",
       "      <td>136</td>\n",
       "      <td>136</td>\n",
       "      <td>137</td>\n",
       "      <td>137</td>\n",
       "      <td>137</td>\n",
       "      <td>137</td>\n",
       "      <td>137</td>\n",
       "    </tr>\n",
       "  </tbody>\n",
       "</table>\n",
       "</div>"
      ],
      "text/plain": [
       "   label  pixel1  pixel2  pixel3  pixel4  pixel5  pixel6  pixel7  pixel8  \\\n",
       "0      7      94      97     103     107     111     115     117     120   \n",
       "1     22     108     115     122     125     128     133     137     141   \n",
       "2     13     139     141     143     144     146     147     150     149   \n",
       "3     11     135     136     136     136     137     137     137     137   \n",
       "\n",
       "   pixel9  \n",
       "0     121  \n",
       "1     144  \n",
       "2     151  \n",
       "3     137  "
      ]
     },
     "execution_count": 5,
     "metadata": {},
     "output_type": "execute_result"
    }
   ],
   "source": [
    "# Peeking the dataset\n",
    "train_dataset.iloc[:4,:10]"
   ]
  },
  {
   "cell_type": "code",
   "execution_count": 9,
   "id": "9055bada",
   "metadata": {},
   "outputs": [
    {
     "data": {
      "image/png": "[encoded data removed]",
      "text/plain": [
       "<Figure size 432x288 with 1 Axes>"
      ]
     },
     "metadata": {
      "needs_background": "light"
     },
     "output_type": "display_data"
    }
   ],
   "source": [
    "def make_image(arr , label=True):\n",
    "    arr = np.array(arr)\n",
    "    start_idx = 1 if label else 0\n",
    "    return arr[start_idx:].reshape(28,28).astype(float)\n",
    "\n",
    "image = make_image(train_dataset.iloc[0])\n",
    "plt.imshow(image, cmap = 'magma')\n",
    "plt.show()"
   ]
  },
  {
   "cell_type": "code",
   "execution_count": 6,
   "id": "ec3cad9d",
   "metadata": {},
   "outputs": [],
   "source": [
    "train_data_og = train_dataset.copy()\n",
    "\n",
    "v_index = int(train_dataset.shape[0]*0.1)\n",
    "\n",
    "validation_data = train_data_og.iloc[:v_index]\n",
    "train_data = train_data_og.iloc[v_index:]\n",
    "\n",
    "#validation_data.shape\n",
    "\n",
    "Y_train = train_data['label']\n",
    "Y_test = test_dataset['label']\n",
    "Y_validation = validation_data['label']\n",
    "\n",
    "X_train = train_data.drop('label',axis = 1).values.reshape(train_data.shape[0], 28, 28, 1)\n",
    "X_test = test_dataset.drop('label',axis = 1).values.reshape(test_dataset.shape[0], 28, 28, 1)\n",
    "X_validation = validation_data.drop('label',axis = 1).values.reshape(validation_data.shape[0], 28, 28, 1)"
   ]
  },
  {
   "cell_type": "code",
   "execution_count": 7,
   "id": "60625e34",
   "metadata": {},
   "outputs": [],
   "source": [
    "generator = tf.keras.preprocessing.image.ImageDataGenerator(rescale=1./255,\n",
    "                                                            rotation_range=10,\n",
    "                                                            zoom_range=0.10,\n",
    "                                                            width_shift_range=0.1,\n",
    "                                                            height_shift_range=0.1,\n",
    "                                                            shear_range=0.1,\n",
    "                                                            horizontal_flip=False,\n",
    "                                                            fill_mode=\"nearest\")\n",
    "\n",
    "X_train_flow = generator.flow(X_train, Y_train, batch_size=32)\n",
    "X_val_flow = generator.flow(X_validation, Y_validation, batch_size=32)"
   ]
  },
  {
   "cell_type": "code",
   "execution_count": 11,
   "id": "4a21f174",
   "metadata": {},
   "outputs": [
    {
     "name": "stdout",
     "output_type": "stream",
     "text": [
      "Model: \"sequential\"\n",
      "_________________________________________________________________\n",
      "Layer (type)                 Output Shape              Param #   \n",
      "=================================================================\n",
      "conv2d (Conv2D)              (None, 26, 26, 32)        320       \n",
      "_________________________________________________________________\n",
      "max_pooling2d (MaxPooling2D) (None, 13, 13, 32)        0         \n",
      "_________________________________________________________________\n",
      "conv2d_1 (Conv2D)            (None, 11, 11, 128)       36992     \n",
      "_________________________________________________________________\n",
      "max_pooling2d_1 (MaxPooling2 (None, 6, 6, 128)         0         \n",
      "_________________________________________________________________\n",
      "conv2d_2 (Conv2D)            (None, 4, 4, 512)         590336    \n",
      "_________________________________________________________________\n",
      "max_pooling2d_2 (MaxPooling2 (None, 2, 2, 512)         0         \n",
      "_________________________________________________________________\n",
      "flatten (Flatten)            (None, 2048)              0         \n",
      "_________________________________________________________________\n",
      "dense (Dense)                (None, 1024)              2098176   \n",
      "_________________________________________________________________\n",
      "dense_1 (Dense)              (None, 256)               262400    \n",
      "_________________________________________________________________\n",
      "dropout (Dropout)            (None, 256)               0         \n",
      "_________________________________________________________________\n",
      "dense_2 (Dense)              (None, 25)                6425      \n",
      "=================================================================\n",
      "Total params: 2,994,649\n",
      "Trainable params: 2,994,649\n",
      "Non-trainable params: 0\n",
      "_________________________________________________________________\n"
     ]
    }
   ],
   "source": [
    "model = Sequential([Conv2D(filters=32,  kernel_size=(3,3), activation=\"relu\", input_shape=(28,28,1)),\n",
    "                    MaxPool2D(2,2, padding='same'),\n",
    "                    \n",
    "                    Conv2D(filters=128,  kernel_size=(3,3), activation=\"relu\"),\n",
    "                    MaxPool2D(2,2, padding='same'),\n",
    "                    \n",
    "                    Conv2D(filters=512, kernel_size=(3,3), activation=\"relu\"),\n",
    "                    MaxPool2D(2,2, padding='same'),\n",
    "                    \n",
    "                    Flatten(),\n",
    "                    \n",
    "                    Dense(units=1024, activation=\"relu\"),                 \n",
    "                    Dense(units=256, activation=\"relu\"),\n",
    "                    Dropout(0.5),\n",
    "                    Dense(units=25, activation=\"softmax\")\n",
    "])\n",
    "\n",
    "model.compile(optimizer='adam', loss=\"sparse_categorical_crossentropy\", metrics=[\"accuracy\"])\n",
    "\n",
    "model.summary()"
   ]
  },
  {
   "cell_type": "code",
   "execution_count": 12,
   "id": "72f7b1c8",
   "metadata": {
    "scrolled": true
   },
   "outputs": [
    {
     "name": "stdout",
     "output_type": "stream",
     "text": [
      "Epoch 1/100\n",
      "773/773 [==============================] - 38s 47ms/step - loss: 1.7364 - accuracy: 0.4423 - val_loss: 0.4588 - val_accuracy: 0.8474\n",
      "Epoch 2/100\n",
      "773/773 [==============================] - 37s 48ms/step - loss: 0.3399 - accuracy: 0.8842 - val_loss: 0.1307 - val_accuracy: 0.9585\n",
      "Epoch 3/100\n",
      "773/773 [==============================] - 36s 47ms/step - loss: 0.1368 - accuracy: 0.9556 - val_loss: 0.0704 - val_accuracy: 0.9796\n",
      "Epoch 4/100\n",
      "773/773 [==============================] - 35s 45ms/step - loss: 0.0838 - accuracy: 0.9739 - val_loss: 0.0595 - val_accuracy: 0.9800\n",
      "Epoch 5/100\n",
      "773/773 [==============================] - 35s 45ms/step - loss: 0.0653 - accuracy: 0.9805 - val_loss: 0.0397 - val_accuracy: 0.9865\n",
      "Epoch 6/100\n",
      "773/773 [==============================] - 34s 44ms/step - loss: 0.0448 - accuracy: 0.9864 - val_loss: 0.0338 - val_accuracy: 0.9894\n",
      "Epoch 7/100\n",
      "773/773 [==============================] - 34s 44ms/step - loss: 0.0458 - accuracy: 0.9869 - val_loss: 0.0214 - val_accuracy: 0.9942\n",
      "Epoch 8/100\n",
      "773/773 [==============================] - 34s 44ms/step - loss: 0.0428 - accuracy: 0.9869 - val_loss: 0.0454 - val_accuracy: 0.9862\n",
      "Epoch 9/100\n",
      "773/773 [==============================] - 34s 44ms/step - loss: 0.0355 - accuracy: 0.9898 - val_loss: 0.0095 - val_accuracy: 0.9971\n",
      "Epoch 10/100\n",
      "773/773 [==============================] - 34s 44ms/step - loss: 0.0294 - accuracy: 0.9910 - val_loss: 0.0087 - val_accuracy: 0.9978\n",
      "Epoch 11/100\n",
      "773/773 [==============================] - 34s 44ms/step - loss: 0.0294 - accuracy: 0.9909 - val_loss: 0.0229 - val_accuracy: 0.9923\n",
      "Epoch 12/100\n",
      "773/773 [==============================] - 34s 44ms/step - loss: 0.0291 - accuracy: 0.9918 - val_loss: 0.0056 - val_accuracy: 0.9985\n",
      "Epoch 13/100\n",
      "773/773 [==============================] - 35s 45ms/step - loss: 0.0252 - accuracy: 0.9931 - val_loss: 0.0386 - val_accuracy: 0.9913\n",
      "Epoch 14/100\n",
      "773/773 [==============================] - 43s 56ms/step - loss: 0.0274 - accuracy: 0.9917 - val_loss: 0.0202 - val_accuracy: 0.9949\n",
      "\n",
      "Epoch 00014: ReduceLROnPlateau reducing learning rate to 0.0005000000237487257.\n",
      "Epoch 15/100\n",
      "773/773 [==============================] - 45s 59ms/step - loss: 0.0100 - accuracy: 0.9973 - val_loss: 0.0050 - val_accuracy: 0.9985\n",
      "Epoch 16/100\n",
      "773/773 [==============================] - 45s 59ms/step - loss: 0.0077 - accuracy: 0.9979 - val_loss: 0.0040 - val_accuracy: 0.9985\n",
      "\n",
      "Epoch 00016: ReduceLROnPlateau reducing learning rate to 0.0002500000118743628.\n",
      "Epoch 17/100\n",
      "773/773 [==============================] - 45s 58ms/step - loss: 0.0045 - accuracy: 0.9990 - val_loss: 5.6803e-04 - val_accuracy: 1.0000\n",
      "Epoch 18/100\n",
      "773/773 [==============================] - 47s 61ms/step - loss: 0.0030 - accuracy: 0.9991 - val_loss: 0.0021 - val_accuracy: 0.9996\n",
      "Epoch 19/100\n",
      "773/773 [==============================] - 46s 60ms/step - loss: 0.0029 - accuracy: 0.9992 - val_loss: 3.3037e-05 - val_accuracy: 1.0000\n",
      "\n",
      "Epoch 00019: ReduceLROnPlateau reducing learning rate to 0.0001250000059371814.\n",
      "Epoch 20/100\n",
      "773/773 [==============================] - 46s 60ms/step - loss: 0.0011 - accuracy: 0.9996 - val_loss: 0.0014 - val_accuracy: 0.9993\n",
      "Epoch 21/100\n",
      "773/773 [==============================] - 45s 59ms/step - loss: 0.0022 - accuracy: 0.9993 - val_loss: 1.6745e-04 - val_accuracy: 1.0000\n",
      "\n",
      "Epoch 00021: ReduceLROnPlateau reducing learning rate to 6.25000029685907e-05.\n",
      "Epoch 22/100\n",
      "773/773 [==============================] - 45s 58ms/step - loss: 0.0015 - accuracy: 0.9996 - val_loss: 9.0554e-05 - val_accuracy: 1.0000\n",
      "Epoch 23/100\n",
      "773/773 [==============================] - 45s 59ms/step - loss: 9.4326e-04 - accuracy: 0.9997 - val_loss: 6.7690e-05 - val_accuracy: 1.0000\n",
      "\n",
      "Epoch 00023: ReduceLROnPlateau reducing learning rate to 3.125000148429535e-05.\n",
      "Epoch 24/100\n",
      "773/773 [==============================] - 45s 58ms/step - loss: 6.4374e-04 - accuracy: 0.9999 - val_loss: 9.1724e-05 - val_accuracy: 1.0000\n"
     ]
    }
   ],
   "source": [
    "learning_rate_reduction = ReduceLROnPlateau(monitor='val_accuracy', patience = 2, verbose=1,factor=0.5, min_lr=0.00001)\n",
    "\n",
    "history = model.fit(X_train_flow, \n",
    "                    validation_data=X_val_flow, \n",
    "                    epochs=100,\n",
    "                    callbacks=[\n",
    "                            tf.keras.callbacks.EarlyStopping(\n",
    "                            monitor='val_loss',\n",
    "                            patience=5,\n",
    "                            restore_best_weights=True), \n",
    "                        \n",
    "                            learning_rate_reduction\n",
    "                    ])"
   ]
  },
  {
   "cell_type": "code",
   "execution_count": 15,
   "id": "5d2766af",
   "metadata": {},
   "outputs": [
    {
     "data": {
      "image/png": "[encoded data removed]",
      "text/plain": [
       "<Figure size 1080x720 with 2 Axes>"
      ]
     },
     "metadata": {
      "needs_background": "light"
     },
     "output_type": "display_data"
    }
   ],
   "source": [
    "fig, axes = plt.subplots(2, 1, figsize=(15, 10))\n",
    "ax = axes.flat\n",
    "\n",
    "pd.DataFrame(history.history)[['accuracy','val_accuracy']].plot(ax=ax[0])\n",
    "ax[0].set_title(\"Accuracy\", fontsize = 15)\n",
    "ax[0].set_ylim(0,1.1)\n",
    "\n",
    "pd.DataFrame(history.history)[['loss','val_loss']].plot(ax=ax[1])\n",
    "ax[1].set_title(\"Loss\", fontsize = 15)\n",
    "plt.show()"
   ]
  },
  {
   "cell_type": "code",
   "execution_count": 52,
   "id": "72f37bf3",
   "metadata": {},
   "outputs": [
    {
     "data": {
      "text/plain": [
       "0.9894032348020078"
      ]
     },
     "execution_count": 52,
     "metadata": {},
     "output_type": "execute_result"
    }
   ],
   "source": [
    "pred = model.predict(X_test)\n",
    "pred = np.argmax(pred,axis=1)\n",
    "\n",
    "accuracy_score(Y_test,pred)\n"
   ]
  },
  {
   "cell_type": "code",
   "execution_count": 46,
   "id": "354aabf3",
   "metadata": {
    "scrolled": true
   },
   "outputs": [
    {
     "data": {
      "text/plain": [
       "(1, 28, 28, 1)"
      ]
     },
     "execution_count": 46,
     "metadata": {},
     "output_type": "execute_result"
    }
   ],
   "source": [
    "import cv2\n",
    "\n",
    "img_array = cv2.imread('./test.jpg', cv2.IMREAD_GRAYSCALE)\n",
    "img_array = img_array.flatten()\n",
    "img_array = img_array.reshape(28, 28, 1)\n",
    "img_array = np.expand_dims(img_array,0)\n",
    "img_array.shape"
   ]
  },
  {
   "cell_type": "code",
   "execution_count": 53,
   "id": "00fcd904",
   "metadata": {},
   "outputs": [
    {
     "data": {
      "text/plain": [
       "array([[0., 0., 0., 0., 0., 0., 0., 0., 0., 0., 0., 0., 0., 0., 0., 1.,\n",
       "        0., 0., 0., 0., 0., 0., 0., 0., 0.]], dtype=float32)"
      ]
     },
     "metadata": {},
     "output_type": "display_data"
    }
   ],
   "source": [
    "pred2 = model.predict(img_array)\n",
    "display(pred2)"
   ]
  },
  {
   "cell_type": "code",
   "execution_count": null,
   "id": "f760b079",
   "metadata": {},
   "outputs": [],
   "source": []
  }
 ],
 "metadata": {
  "kernelspec": {
   "display_name": "Python 3",
   "language": "python",
   "name": "python3"
  },
  "language_info": {
   "codemirror_mode": {
    "name": "ipython",
    "version": 3
   },
   "file_extension": ".py",
   "mimetype": "text/x-python",
   "name": "python",
   "nbconvert_exporter": "python",
   "pygments_lexer": "ipython3",
   "version": "3.9.5"
  }
 },
 "nbformat": 4,
 "nbformat_minor": 5
}
