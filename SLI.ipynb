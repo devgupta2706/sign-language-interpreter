{
 "cells": [
  {
   "cell_type": "code",
   "execution_count": 3,
   "id": "895b76dc",
   "metadata": {},
   "outputs": [],
   "source": [
    "import numpy as np\n",
    "import pandas as pd\n",
    "from pathlib import Path\n",
    "import os.path\n",
    "import matplotlib.pyplot as plt\n",
    "from IPython.display import Image, display, Markdown\n",
    "import matplotlib.cm as cm\n",
    "from sklearn.metrics import confusion_matrix,accuracy_score, classification_report\n",
    "import tensorflow as tf\n",
    "from tensorflow.keras.models import Sequential\n",
    "from tensorflow.keras.layers import Conv2D, MaxPool2D, Flatten, Dense, Dropout, BatchNormalization\n",
    "from tensorflow.keras.callbacks import ReduceLROnPlateau\n",
    "from time import perf_counter\n",
    "import seaborn as sns"
   ]
  },
  {
   "cell_type": "code",
   "execution_count": 6,
   "id": "243ff15a",
   "metadata": {},
   "outputs": [],
   "source": [
    "train_dataset = pd.read_csv('./data/sign_mnist_train/sign_mnist_train.csv')\n",
    "test_dataset = pd.read_csv('./data/sign_mnist_test/sign_mnist_test.csv')"
   ]
  },
  {
   "cell_type": "code",
   "execution_count": 7,
   "id": "3782deaa",
   "metadata": {},
   "outputs": [],
   "source": [
    "#shuffling the dataset\n",
    "\n",
    "train_dataset = train_dataset.sample(frac = 1.0).reset_index(drop = True)\n",
    "test_dataset = test_dataset.sample(frac = 1.0).reset_index(drop = True)"
   ]
  },
  {
   "cell_type": "code",
   "execution_count": 8,
   "id": "5bd43ddb",
   "metadata": {},
   "outputs": [
    {
     "data": {
      "text/html": [
       "<div>\n",
       "<style scoped>\n",
       "    .dataframe tbody tr th:only-of-type {\n",
       "        vertical-align: middle;\n",
       "    }\n",
       "\n",
       "    .dataframe tbody tr th {\n",
       "        vertical-align: top;\n",
       "    }\n",
       "\n",
       "    .dataframe thead th {\n",
       "        text-align: right;\n",
       "    }\n",
       "</style>\n",
       "<table border=\"1\" class=\"dataframe\">\n",
       "  <thead>\n",
       "    <tr style=\"text-align: right;\">\n",
       "      <th></th>\n",
       "      <th>label</th>\n",
       "      <th>pixel1</th>\n",
       "      <th>pixel2</th>\n",
       "      <th>pixel3</th>\n",
       "      <th>pixel4</th>\n",
       "      <th>pixel5</th>\n",
       "      <th>pixel6</th>\n",
       "      <th>pixel7</th>\n",
       "      <th>pixel8</th>\n",
       "      <th>pixel9</th>\n",
       "    </tr>\n",
       "  </thead>\n",
       "  <tbody>\n",
       "    <tr>\n",
       "      <th>0</th>\n",
       "      <td>8</td>\n",
       "      <td>162</td>\n",
       "      <td>164</td>\n",
       "      <td>165</td>\n",
       "      <td>166</td>\n",
       "      <td>166</td>\n",
       "      <td>166</td>\n",
       "      <td>166</td>\n",
       "      <td>165</td>\n",
       "      <td>165</td>\n",
       "    </tr>\n",
       "    <tr>\n",
       "      <th>1</th>\n",
       "      <td>15</td>\n",
       "      <td>108</td>\n",
       "      <td>115</td>\n",
       "      <td>123</td>\n",
       "      <td>128</td>\n",
       "      <td>134</td>\n",
       "      <td>137</td>\n",
       "      <td>140</td>\n",
       "      <td>143</td>\n",
       "      <td>146</td>\n",
       "    </tr>\n",
       "    <tr>\n",
       "      <th>2</th>\n",
       "      <td>12</td>\n",
       "      <td>105</td>\n",
       "      <td>116</td>\n",
       "      <td>124</td>\n",
       "      <td>128</td>\n",
       "      <td>132</td>\n",
       "      <td>138</td>\n",
       "      <td>143</td>\n",
       "      <td>147</td>\n",
       "      <td>151</td>\n",
       "    </tr>\n",
       "    <tr>\n",
       "      <th>3</th>\n",
       "      <td>16</td>\n",
       "      <td>64</td>\n",
       "      <td>68</td>\n",
       "      <td>73</td>\n",
       "      <td>77</td>\n",
       "      <td>80</td>\n",
       "      <td>85</td>\n",
       "      <td>95</td>\n",
       "      <td>102</td>\n",
       "      <td>109</td>\n",
       "    </tr>\n",
       "  </tbody>\n",
       "</table>\n",
       "</div>"
      ],
      "text/plain": [
       "   label  pixel1  pixel2  pixel3  pixel4  pixel5  pixel6  pixel7  pixel8  \\\n",
       "0      8     162     164     165     166     166     166     166     165   \n",
       "1     15     108     115     123     128     134     137     140     143   \n",
       "2     12     105     116     124     128     132     138     143     147   \n",
       "3     16      64      68      73      77      80      85      95     102   \n",
       "\n",
       "   pixel9  \n",
       "0     165  \n",
       "1     146  \n",
       "2     151  \n",
       "3     109  "
      ]
     },
     "execution_count": 8,
     "metadata": {},
     "output_type": "execute_result"
    }
   ],
   "source": [
    "# Peeking the dataset\n",
    "train_dataset.iloc[:4,:10]"
   ]
  },
  {
   "cell_type": "code",
   "execution_count": 9,
   "id": "9055bada",
   "metadata": {},
   "outputs": [
    {
     "data": {
      "image/png": "[encoded data removed]",
      "text/plain": [
       "<Figure size 432x288 with 1 Axes>"
      ]
     },
     "metadata": {
      "needs_background": "light"
     },
     "output_type": "display_data"
    }
   ],
   "source": [
    "def make_image(arr , label=True):\n",
    "    arr = np.array(arr)\n",
    "    start_idx = 1 if label else 0\n",
    "    return arr[start_idx:].reshape(28,28).astype(float)\n",
    "\n",
    "image = make_image(train_dataset.iloc[0])\n",
    "plt.imshow(image, cmap = 'magma')\n",
    "plt.show()"
   ]
  },
  {
   "cell_type": "code",
   "execution_count": 11,
   "id": "ec3cad9d",
   "metadata": {},
   "outputs": [],
   "source": [
    "train_data_og = train_dataset.copy()\n",
    "\n",
    "v_index = int(train_dataset.shape[0]*0.1)\n",
    "\n",
    "validation_data = train_data_og.iloc[:v_index]\n",
    "train_data = train_data_og.iloc[v_index:]\n",
    "\n",
    "#validation_data.shape\n",
    "\n",
    "Y_train = train_data['label']\n",
    "Y_test = test_dataset['label']\n",
    "Y_validation = validation_data['label']\n",
    "\n",
    "X_train = train_data.drop('label',axis = 1).values.reshape(train_data.shape[0], 28, 28, 1)\n",
    "X_test = test_dataset.drop('label',axis = 1).values.reshape(test_dataset.shape[0], 28, 28, 1)\n",
    "X_validation = validation_data.drop('label',axis = 1).values.reshape(validation_data.shape[0], 28, 28, 1)"
   ]
  },
  {
   "cell_type": "code",
   "execution_count": 13,
   "id": "60625e34",
   "metadata": {},
   "outputs": [],
   "source": [
    "generator = tf.keras.preprocessing.image.ImageDataGenerator(rescale=1./255,\n",
    "                                                            rotation_range=10,\n",
    "                                                            zoom_range=0.10,\n",
    "                                                            width_shift_range=0.1,\n",
    "                                                            height_shift_range=0.1,\n",
    "                                                            shear_range=0.1,\n",
    "                                                            horizontal_flip=False,\n",
    "                                                            fill_mode=\"nearest\")\n",
    "\n",
    "X_train_flow = generator.flow(X_train, Y_train, batch_size=32)\n",
    "X_val_flow = generator.flow(X_validation, Y_validation, batch_size=32)"
   ]
  },
  {
   "cell_type": "code",
   "execution_count": 14,
   "id": "4a21f174",
   "metadata": {},
   "outputs": [
    {
     "name": "stdout",
     "output_type": "stream",
     "text": [
      "Model: \"sequential_1\"\n",
      "_________________________________________________________________\n",
      "Layer (type)                 Output Shape              Param #   \n",
      "=================================================================\n",
      "conv2d_3 (Conv2D)            (None, 26, 26, 32)        320       \n",
      "_________________________________________________________________\n",
      "max_pooling2d_3 (MaxPooling2 (None, 13, 13, 32)        0         \n",
      "_________________________________________________________________\n",
      "conv2d_4 (Conv2D)            (None, 11, 11, 128)       36992     \n",
      "_________________________________________________________________\n",
      "max_pooling2d_4 (MaxPooling2 (None, 6, 6, 128)         0         \n",
      "_________________________________________________________________\n",
      "conv2d_5 (Conv2D)            (None, 4, 4, 512)         590336    \n",
      "_________________________________________________________________\n",
      "max_pooling2d_5 (MaxPooling2 (None, 2, 2, 512)         0         \n",
      "_________________________________________________________________\n",
      "flatten_1 (Flatten)          (None, 2048)              0         \n",
      "_________________________________________________________________\n",
      "dense_3 (Dense)              (None, 1024)              2098176   \n",
      "_________________________________________________________________\n",
      "dense_4 (Dense)              (None, 256)               262400    \n",
      "_________________________________________________________________\n",
      "dropout_1 (Dropout)          (None, 256)               0         \n",
      "_________________________________________________________________\n",
      "dense_5 (Dense)              (None, 25)                6425      \n",
      "=================================================================\n",
      "Total params: 2,994,649\n",
      "Trainable params: 2,994,649\n",
      "Non-trainable params: 0\n",
      "_________________________________________________________________\n"
     ]
    }
   ],
   "source": [
    "model = Sequential([Conv2D(filters=32,  kernel_size=(3,3), activation=\"relu\", input_shape=(28,28,1)),\n",
    "                    MaxPool2D(2,2, padding='same'),\n",
    "                    \n",
    "                    Conv2D(filters=128,  kernel_size=(3,3), activation=\"relu\"),\n",
    "                    MaxPool2D(2,2, padding='same'),\n",
    "                    \n",
    "                    Conv2D(filters=512, kernel_size=(3,3), activation=\"relu\"),\n",
    "                    MaxPool2D(2,2, padding='same'),\n",
    "                    \n",
    "                    Flatten(),\n",
    "                    \n",
    "                    Dense(units=1024, activation=\"relu\"),                 \n",
    "                    Dense(units=256, activation=\"relu\"),\n",
    "                    Dropout(0.5),\n",
    "                    Dense(units=25, activation=\"softmax\")\n",
    "])\n",
    "\n",
    "model.compile(optimizer='adam', loss=\"sparse_categorical_crossentropy\", metrics=[\"accuracy\"])\n",
    "\n",
    "model.summary()"
   ]
  },
  {
   "cell_type": "code",
   "execution_count": 15,
   "id": "72f7b1c8",
   "metadata": {
    "scrolled": true
   },
   "outputs": [
    {
     "name": "stdout",
     "output_type": "stream",
     "text": [
      "Epoch 1/100\n",
      "773/773 [==============================] - 36s 46ms/step - loss: 1.7482 - accuracy: 0.4351 - val_loss: 0.3744 - val_accuracy: 0.8718\n",
      "Epoch 2/100\n",
      "773/773 [==============================] - 35s 45ms/step - loss: 0.3081 - accuracy: 0.8930 - val_loss: 0.1923 - val_accuracy: 0.9301\n",
      "Epoch 3/100\n",
      "773/773 [==============================] - 35s 45ms/step - loss: 0.1215 - accuracy: 0.9608 - val_loss: 0.0575 - val_accuracy: 0.9789\n",
      "Epoch 4/100\n",
      "773/773 [==============================] - 35s 45ms/step - loss: 0.0710 - accuracy: 0.9780 - val_loss: 0.0384 - val_accuracy: 0.9898\n",
      "Epoch 5/100\n",
      "773/773 [==============================] - 35s 45ms/step - loss: 0.0541 - accuracy: 0.9822 - val_loss: 0.0282 - val_accuracy: 0.9913\n",
      "Epoch 6/100\n",
      "773/773 [==============================] - 35s 45ms/step - loss: 0.0504 - accuracy: 0.9843 - val_loss: 0.0157 - val_accuracy: 0.9938\n",
      "Epoch 7/100\n",
      "773/773 [==============================] - 35s 45ms/step - loss: 0.0408 - accuracy: 0.9877 - val_loss: 0.0078 - val_accuracy: 0.9971\n",
      "Epoch 8/100\n",
      "773/773 [==============================] - 35s 45ms/step - loss: 0.0320 - accuracy: 0.9905 - val_loss: 0.0203 - val_accuracy: 0.9923\n",
      "Epoch 9/100\n",
      "773/773 [==============================] - 35s 45ms/step - loss: 0.0352 - accuracy: 0.9901 - val_loss: 0.0408 - val_accuracy: 0.9898\n",
      "\n",
      "Epoch 00009: ReduceLROnPlateau reducing learning rate to 0.0005000000237487257.\n",
      "Epoch 10/100\n",
      "773/773 [==============================] - 35s 45ms/step - loss: 0.0101 - accuracy: 0.9969 - val_loss: 0.0015 - val_accuracy: 0.9989\n",
      "Epoch 11/100\n",
      "773/773 [==============================] - 35s 45ms/step - loss: 0.0075 - accuracy: 0.9982 - val_loss: 0.0035 - val_accuracy: 0.9989\n",
      "Epoch 12/100\n",
      "773/773 [==============================] - 35s 45ms/step - loss: 0.0125 - accuracy: 0.9966 - val_loss: 0.0057 - val_accuracy: 0.9982\n",
      "\n",
      "Epoch 00012: ReduceLROnPlateau reducing learning rate to 0.0002500000118743628.\n",
      "Epoch 13/100\n",
      "773/773 [==============================] - 34s 43ms/step - loss: 0.0051 - accuracy: 0.9986 - val_loss: 0.0033 - val_accuracy: 0.9993\n",
      "Epoch 14/100\n",
      "773/773 [==============================] - 33s 43ms/step - loss: 0.0039 - accuracy: 0.9987 - val_loss: 9.7320e-04 - val_accuracy: 0.9993\n",
      "Epoch 15/100\n",
      "773/773 [==============================] - 36s 46ms/step - loss: 0.0030 - accuracy: 0.9992 - val_loss: 7.0109e-04 - val_accuracy: 0.9996\n",
      "Epoch 16/100\n",
      "773/773 [==============================] - 34s 43ms/step - loss: 0.0040 - accuracy: 0.9987 - val_loss: 0.0014 - val_accuracy: 0.9996\n",
      "Epoch 17/100\n",
      "773/773 [==============================] - 34s 44ms/step - loss: 0.0038 - accuracy: 0.9988 - val_loss: 4.7000e-04 - val_accuracy: 1.0000\n",
      "Epoch 18/100\n",
      "773/773 [==============================] - 35s 45ms/step - loss: 0.0044 - accuracy: 0.9986 - val_loss: 0.0033 - val_accuracy: 0.9996\n",
      "Epoch 19/100\n",
      "773/773 [==============================] - 34s 44ms/step - loss: 0.0034 - accuracy: 0.9988 - val_loss: 0.0020 - val_accuracy: 0.9993\n",
      "\n",
      "Epoch 00019: ReduceLROnPlateau reducing learning rate to 0.0001250000059371814.\n",
      "Epoch 20/100\n",
      "773/773 [==============================] - 34s 45ms/step - loss: 0.0015 - accuracy: 0.9997 - val_loss: 0.0014 - val_accuracy: 0.9996\n",
      "Epoch 21/100\n",
      "773/773 [==============================] - 35s 45ms/step - loss: 0.0012 - accuracy: 0.9997 - val_loss: 0.0025 - val_accuracy: 0.9996\n",
      "\n",
      "Epoch 00021: ReduceLROnPlateau reducing learning rate to 6.25000029685907e-05.\n",
      "Epoch 22/100\n",
      "773/773 [==============================] - 35s 45ms/step - loss: 0.0011 - accuracy: 0.9997 - val_loss: 2.6014e-05 - val_accuracy: 1.0000\n",
      "Epoch 23/100\n",
      "773/773 [==============================] - 36s 46ms/step - loss: 9.4907e-04 - accuracy: 0.9998 - val_loss: 2.5035e-05 - val_accuracy: 1.0000\n",
      "\n",
      "Epoch 00023: ReduceLROnPlateau reducing learning rate to 3.125000148429535e-05.\n",
      "Epoch 24/100\n",
      "773/773 [==============================] - 36s 46ms/step - loss: 8.0385e-04 - accuracy: 0.9998 - val_loss: 1.4653e-05 - val_accuracy: 1.0000\n",
      "Epoch 25/100\n",
      "773/773 [==============================] - 35s 46ms/step - loss: 5.1020e-04 - accuracy: 0.9999 - val_loss: 4.0805e-06 - val_accuracy: 1.0000\n",
      "\n",
      "Epoch 00025: ReduceLROnPlateau reducing learning rate to 1.5625000742147677e-05.\n",
      "Epoch 26/100\n",
      "773/773 [==============================] - 35s 46ms/step - loss: 4.5049e-04 - accuracy: 0.9999 - val_loss: 9.0385e-05 - val_accuracy: 1.0000\n",
      "Epoch 27/100\n",
      "773/773 [==============================] - 35s 46ms/step - loss: 3.7938e-04 - accuracy: 0.9999 - val_loss: 0.0010 - val_accuracy: 0.9996\n",
      "\n",
      "Epoch 00027: ReduceLROnPlateau reducing learning rate to 1e-05.\n",
      "Epoch 28/100\n",
      "773/773 [==============================] - 35s 45ms/step - loss: 2.0506e-04 - accuracy: 1.0000 - val_loss: 4.8899e-04 - val_accuracy: 0.9996\n",
      "Epoch 29/100\n",
      "773/773 [==============================] - 34s 44ms/step - loss: 3.8243e-04 - accuracy: 1.0000 - val_loss: 1.6462e-05 - val_accuracy: 1.0000\n",
      "Epoch 30/100\n",
      "773/773 [==============================] - 35s 45ms/step - loss: 2.6297e-04 - accuracy: 0.9999 - val_loss: 4.8898e-05 - val_accuracy: 1.0000\n"
     ]
    }
   ],
   "source": [
    "learning_rate_reduction = ReduceLROnPlateau(monitor='val_accuracy', patience = 2, verbose=1,factor=0.5, min_lr=0.00001)\n",
    "\n",
    "history = model.fit(X_train_flow, \n",
    "                    validation_data=X_val_flow, \n",
    "                    epochs=100,\n",
    "                    callbacks=[\n",
    "                            tf.keras.callbacks.EarlyStopping(\n",
    "                            monitor='val_loss',\n",
    "                            patience=5,\n",
    "                            restore_best_weights=True), \n",
    "                        \n",
    "                            learning_rate_reduction\n",
    "                    ])"
   ]
  },
  {
   "cell_type": "code",
   "execution_count": 16,
   "id": "5d2766af",
   "metadata": {},
   "outputs": [
    {
     "data": {
      "image/png": "[encoded data removed]",
      "text/plain": [
       "<Figure size 1080x720 with 2 Axes>"
      ]
     },
     "metadata": {
      "needs_background": "light"
     },
     "output_type": "display_data"
    }
   ],
   "source": [
    "fig, axes = plt.subplots(2, 1, figsize=(15, 10))\n",
    "ax = axes.flat\n",
    "\n",
    "pd.DataFrame(history.history)[['accuracy','val_accuracy']].plot(ax=ax[0])\n",
    "ax[0].set_title(\"Accuracy\", fontsize = 15)\n",
    "ax[0].set_ylim(0,1.1)\n",
    "\n",
    "pd.DataFrame(history.history)[['loss','val_loss']].plot(ax=ax[1])\n",
    "ax[1].set_title(\"Loss\", fontsize = 15)\n",
    "plt.show()"
   ]
  },
  {
   "cell_type": "code",
   "execution_count": 35,
   "id": "72f37bf3",
   "metadata": {},
   "outputs": [
    {
     "data": {
      "text/plain": [
       "0.9976296709425544"
      ]
     },
     "execution_count": 35,
     "metadata": {},
     "output_type": "execute_result"
    }
   ],
   "source": [
    "pred = model.predict(X_test)\n",
    "pred = np.argmax(pred,axis=1)\n",
    "\n",
    "accuracy_score(Y_test,pred)"
   ]
  },
  {
   "cell_type": "code",
   "execution_count": 1,
   "id": "354aabf3",
   "metadata": {
    "scrolled": true
   },
   "outputs": [
    {
     "name": "stdout",
     "output_type": "stream",
     "text": [
      "[[ 94 110 126 132 131 133 135 136 139 140 139 133 141 135 140 136 138 135\n",
      "  131 130 131 131 131 131 131 130 129 128]\n",
      " [ 60  72  91 112 126 131 132 132 130 135 139 133 136 131 134 128 129 129\n",
      "  130 131 132 131 130 129 132 131 130 130]\n",
      " [126  93  62  61  83 106 120 125 132 125 130 133 135 129 131 129 128 128\n",
      "  128 127 126 127 128 128 129 128 128 127]\n",
      " [140 144 136 107  70  53  67  90 120 115 121 122 121 123 124 124 124 124\n",
      "  123 122 121 123 123 123 122 122 121 121]\n",
      " [148 142 138 138 137 121  86  55  53  81 115 122 117 120 117 119 115 117\n",
      "  118 118 120 121 119 115 118 117 117 116]\n",
      " [142 142 141 138 140 142 136 127  98  66  49  64  94 116 110 121 116 117\n",
      "  116 112 112 115 115 113 115 114 113 112]\n",
      " [157 153 147 141 139 139 138 137 138 123 129 156 166 138  91  99 105 110\n",
      "  111 107 104 107 110 110 108 107 106 105]\n",
      " [172 164 157 154 150 143 139 140 132 137 144 153 153 124  59  51  77  91\n",
      "  104 106 104 103 103 101 100  99  98  97]\n",
      " [184 175 182 184 162 157 152 146 140 130 131 139 124 114 117 105  69  45\n",
      "   64  81  98 101  93  99  95  91  90  91]\n",
      " [188 154 161 155 162 176 167 168 157 138 146 162 154 123 121 119 124 109\n",
      "   80  54  47  72  92  89  89  91  93  90]\n",
      " [199 149 142 147 137 186 176 182 178 141 141 141 144 125 136 135 124 120\n",
      "  118 113  90  54  38  61  82  84  79  75]\n",
      " [204 154 166 166 159 176 198 184 182 131 144 143 148 135 149 137 135 121\n",
      "  128  87 115 108 101  60  36  52  64  68]\n",
      " [211 174 144 157 157 157 197 204 196 123 144 161 165 156 168 159 153 143\n",
      "  134 105  25  31  65 103  95  66  42  41]\n",
      " [210 203 137 170 177 174 174 203 200 117 115 129 145 172 183 176 166 169\n",
      "  148 155 117  23  12   0  34  65  87  80]\n",
      " [217 212 172 141 176 173 178 199 206 155 147 147 154 189 179 181 183 155\n",
      "  159 159 160 120  30  30   6   0  37  89]\n",
      " [214 215 215 141 161 191 202 205 205 189 191 184 158 159 131 165 173 174\n",
      "  148 178 166 166 134  56  69  18   6  30]\n",
      " [213 212 213 175 152 171 183 174 169 171 158 156 146  87  98 158 163 155\n",
      "  144 185 179 174 176 137  96 109  21   2]\n",
      " [215 224 214 187 143 167 163 145 142 140 145 156 172 146 138 165 166 137\n",
      "  100 153 164 157 170 171 147  87  99  24]\n",
      " [210 214 207 207 119 142 160 164 122 127 147 134 121 122 157 211 172 132\n",
      "   84 165 165 151 170 185 173 130 100 103]\n",
      " [188 194 197 186 119 116 145 147 131 103  94  88  85 105 139 167 159 102\n",
      "  131 153 159 132 178 187 186 181 116  61]\n",
      " [206 184 187 174 135  60  67  82  85  64  71 117 148 154 124  69  48  93\n",
      "  162 191 152 122 186 189 175 183 176 110]\n",
      " [230 239 237 193  74  38  45  46  60  53  54  92 122 142 124  70  48 121\n",
      "  177 183 161 118 163 144 160 164 152 158]\n",
      " [227 224 226 211  74  48  41  50  57  43  29  44  66  97  91  64  51  50\n",
      "   67  83  96 145 148 162 163 160 166 157]\n",
      " [222 190 197 215 198 127  64  55  52  54  66  73  65  70  59  65  59  55\n",
      "   52  88  83  88 138 139 170 142 149 168]\n",
      " [206 212 216 213 202 182 156  85  85  93  87  94  97  87  70  80  88  94\n",
      "  100  97  92  94  95  88 123 135 155 163]\n",
      " [226 229 227 229 206 205 148  88  91 101  98  98  95  92  83  88  93  95\n",
      "   98  97  95 100 106 105  78 101 137 172]\n",
      " [228 232 235 224 201 224 179 157 136 131 109  88  69  73  69  65  86  88\n",
      "   97 104 105 105 106 104 108  98 105 161]\n",
      " [238 233 237 211 212 221 179 149  97  98 101 104  92  94  76  48  22  32\n",
      "   57  84  99 105 108 109 101 101 121 209]]\n"
     ]
    }
   ],
   "source": [
    "import cv2\n",
    "\n",
    "img_array = cv2.imread('./test.jpg', cv2.IMREAD_GRAYSCALE)\n",
    "print(img_array)"
   ]
  },
  {
   "cell_type": "code",
   "execution_count": null,
   "id": "2c241dca",
   "metadata": {},
   "outputs": [],
   "source": []
  }
 ],
 "metadata": {
  "kernelspec": {
   "display_name": "Python 3",
   "language": "python",
   "name": "python3"
  },
  "language_info": {
   "codemirror_mode": {
    "name": "ipython",
    "version": 3
   },
   "file_extension": ".py",
   "mimetype": "text/x-python",
   "name": "python",
   "nbconvert_exporter": "python",
   "pygments_lexer": "ipython3",
   "version": "3.9.5"
  }
 },
 "nbformat": 4,
 "nbformat_minor": 5
}
